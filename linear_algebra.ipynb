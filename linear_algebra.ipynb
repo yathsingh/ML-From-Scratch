{
 "cells": [
  {
   "cell_type": "code",
   "execution_count": 1,
   "id": "c08ddf8c",
   "metadata": {},
   "outputs": [],
   "source": [
    "from typing import List\n",
    "from typing import Tuple\n",
    "from typing import Callable\n",
    "import math"
   ]
  },
  {
   "cell_type": "markdown",
   "id": "49e2df28",
   "metadata": {},
   "source": [
    "VECTORS"
   ]
  },
  {
   "cell_type": "code",
   "execution_count": 2,
   "id": "64b9bd19",
   "metadata": {},
   "outputs": [],
   "source": [
    "Vector = List[float]\n",
    "\n",
    "height_weight_age = [70,  # inches,\n",
    "                     170, # pounds,\n",
    "                     40 ] # years\n",
    "\n",
    "grades = [95,   # exam1\n",
    "          80,   # exam2\n",
    "          75,   # exam3\n",
    "          62 ]  # exam4"
   ]
  },
  {
   "cell_type": "code",
   "execution_count": 3,
   "id": "48551776",
   "metadata": {},
   "outputs": [],
   "source": [
    "def add(v: Vector, w: Vector) -> Vector:\n",
    "    \"\"\"Adds corresponding elements\"\"\"\n",
    "    assert len(v) == len(w), \"vectors must be the same length\"\n",
    "\n",
    "    return [v_i + w_i for v_i, w_i in zip(v, w)]\n",
    "\n",
    "assert add([1, 2, 3], [4, 5, 6]) == [5, 7, 9]"
   ]
  },
  {
   "cell_type": "code",
   "execution_count": 4,
   "id": "06136519",
   "metadata": {},
   "outputs": [],
   "source": [
    "def subtract(v: Vector, w: Vector) -> Vector:\n",
    "    \"\"\"Subtracts corresponding elements\"\"\"\n",
    "    assert len(v) == len(w), \"vectors must be the same length\"\n",
    "\n",
    "    return [v_i - w_i for v_i, w_i in zip(v, w)]\n",
    "\n",
    "assert subtract([5, 7, 9], [4, 5, 6]) == [1, 2, 3]"
   ]
  },
  {
   "cell_type": "code",
   "execution_count": 5,
   "id": "658e257a",
   "metadata": {},
   "outputs": [],
   "source": [
    "def vector_sum(vectors: List[Vector]) -> Vector:\n",
    "    \"\"\"Sums all corresponding elements\"\"\"\n",
    "    assert vectors, \"no vectors provided!\"\n",
    "\n",
    "    num_elements = len(vectors[0])\n",
    "    assert all(len(v) == num_elements for v in vectors), \"different sizes!\"\n",
    "\n",
    "    return [sum(vector[i] for vector in vectors)\n",
    "            for i in range(num_elements)]\n",
    "\n",
    "assert vector_sum([[1,2], [2,3], [3,4]]) == [6,9]\n"
   ]
  },
  {
   "cell_type": "code",
   "execution_count": 6,
   "id": "f568356a",
   "metadata": {},
   "outputs": [],
   "source": [
    "def scalar_multiply(c: float, v: Vector) -> Vector:\n",
    "    \"\"\"Multiplies every element by c\"\"\"\n",
    "    \n",
    "    return [c * v_i for v_i in v] \n",
    "\n",
    "assert scalar_multiply(2, [1, 2, 3]) == [2, 4, 6]"
   ]
  },
  {
   "cell_type": "code",
   "execution_count": 7,
   "id": "1dadc2c5",
   "metadata": {},
   "outputs": [],
   "source": [
    "def vector_mean(vectors: List[Vector]) -> Vector:\n",
    "    \"\"\"Computes the element-wise average\"\"\"\n",
    "    n = len(vectors)\n",
    "    \n",
    "    return scalar_multiply(1/n, vector_sum(vectors))\n",
    "\n",
    "assert vector_mean([[1, 2], [2, 3], [3, 4]]) == [2, 3]"
   ]
  },
  {
   "cell_type": "code",
   "execution_count": 8,
   "id": "2bc59498",
   "metadata": {},
   "outputs": [],
   "source": [
    "def dot(v: Vector, w: Vector) -> Vector: \n",
    "    \"\"\"Computes sum of component-wise products\"\"\"\n",
    "    assert len(v) == len(w), \"Vectors must be the same length\"\n",
    "    \n",
    "    return sum(v_i * w_i for v_i, w_i in zip(v, w)) \n",
    "\n",
    "assert dot([1, 2, 3], [4, 5, 6]) == 32"
   ]
  },
  {
   "cell_type": "code",
   "execution_count": 9,
   "id": "bf4708fb",
   "metadata": {},
   "outputs": [],
   "source": [
    "def sum_of_squares(v: Vector) -> Vector: \n",
    "    \"\"\"Computes sum of the squares of each element of the vector\"\"\" \n",
    "\n",
    "    return dot(v, v)\n",
    "\n",
    "assert sum_of_squares([1, 2, 3]) == 14"
   ]
  },
  {
   "cell_type": "code",
   "execution_count": 10,
   "id": "22ca18fe",
   "metadata": {},
   "outputs": [],
   "source": [
    "def magnitude(v: Vector) -> Vector:\n",
    "    \"\"\"Computes magnitude/length of the vector\"\"\"\n",
    "\n",
    "    return math.sqrt(sum_of_squares(v))\n",
    "\n",
    "assert magnitude([3, 4]) == 5"
   ]
  },
  {
   "cell_type": "code",
   "execution_count": 11,
   "id": "63946846",
   "metadata": {},
   "outputs": [],
   "source": [
    "def squared_distance(v: Vector, w: Vector) -> float:\n",
    "    \"\"\"Computes squared distance of the 2 vectors\"\"\"\n",
    "\n",
    "    return sum_of_squares(subtract(v, w))\n",
    "\n",
    "assert squared_distance([3, 4, 5], [1, 2, 3]) == 12"
   ]
  },
  {
   "cell_type": "code",
   "execution_count": 12,
   "id": "7a6fd4e2",
   "metadata": {},
   "outputs": [],
   "source": [
    "def distance_1(v: Vector, w: Vector) -> float:\n",
    "    \"\"\"Computes distance between the 2 vectors: 1st method\"\"\"\n",
    "\n",
    "    return math.sqrt(squared_distance(v, w))\n",
    "\n",
    "assert distance_1([4, 1], [1, 5]) == 5"
   ]
  },
  {
   "cell_type": "code",
   "execution_count": 13,
   "id": "d10de151",
   "metadata": {},
   "outputs": [],
   "source": [
    "def distance_2(v: Vector, w: Vector) -> float:\n",
    "    \"\"\"Computes distance between the 2 vectors: 2nd method\"\"\"\n",
    "\n",
    "    return magnitude(subtract(v, w))\n",
    "\n",
    "assert distance_2([4, 1], [1, 5]) == 5"
   ]
  },
  {
   "cell_type": "markdown",
   "id": "362d253b",
   "metadata": {},
   "source": [
    "MATRICES\n"
   ]
  },
  {
   "cell_type": "code",
   "execution_count": 14,
   "id": "1a0ebf05",
   "metadata": {},
   "outputs": [],
   "source": [
    "Matrix = List[List[float]]\n",
    "\n",
    "A = [[1, 2, 3],\n",
    "     [4, 5, 6]]\n",
    "\n",
    "B = [[1, 2],     \n",
    "     [3, 4],\n",
    "     [5, 6]]"
   ]
  },
  {
   "cell_type": "code",
   "execution_count": 15,
   "id": "414ecfa3",
   "metadata": {},
   "outputs": [],
   "source": [
    "def shape(A: Matrix) -> Tuple[int, int]:\n",
    "    \"\"\"Returns number of rows and columns of the matrix\"\"\"\n",
    "\n",
    "    num_rows = len(A)\n",
    "    num_cols = len(A[0]) if A else 0\n",
    "\n",
    "    return num_rows, num_cols\n",
    "\n",
    "assert shape([[1, 2, 3],\n",
    "              [2, 5, 1]]) == (2,3)"
   ]
  },
  {
   "cell_type": "code",
   "execution_count": 16,
   "id": "0de6c7c9",
   "metadata": {},
   "outputs": [],
   "source": [
    "def get_row(A: Matrix, i: int) -> Vector:\n",
    "    \"\"\"Returns ith row of the matrix\"\"\"\n",
    "\n",
    "    return A[i]"
   ]
  },
  {
   "cell_type": "code",
   "execution_count": 17,
   "id": "dfe54477",
   "metadata": {},
   "outputs": [],
   "source": [
    "def get_column(A: Matrix, j: int) -> Vector:\n",
    "    \"\"\"Returns jth column of the matrix\"\"\"\n",
    "\n",
    "    return [A_i[j] for A_i in A]"
   ]
  },
  {
   "cell_type": "code",
   "execution_count": 18,
   "id": "239f814e",
   "metadata": {},
   "outputs": [],
   "source": [
    "def make_matrix(num_rows: int,\n",
    "                num_cols: int,\n",
    "                entry_fn: Callable[[int, int], float]) -> Matrix:\n",
    "    \"\"\"Creates matrix\"\"\"\n",
    "\n",
    "    return [[entry_fn(i, j) \n",
    "            for j in range(num_cols)]\n",
    "            for i in range(num_rows)]"
   ]
  },
  {
   "cell_type": "code",
   "execution_count": 19,
   "id": "037c902c",
   "metadata": {},
   "outputs": [],
   "source": [
    "def identity_matrix(n: int) -> Matrix: \n",
    "    \"\"\"Returns identity matrix\"\"\"\n",
    "\n",
    "    return make_matrix(n, n, lambda i, j: 1 if i==j else 0)\n",
    "\n",
    "assert identity_matrix(3) == [[1, 0, 0],\n",
    "                              [0, 1, 0],\n",
    "                              [0, 0, 1]]"
   ]
  }
 ],
 "metadata": {
  "kernelspec": {
   "display_name": ".venv",
   "language": "python",
   "name": "python3"
  },
  "language_info": {
   "codemirror_mode": {
    "name": "ipython",
    "version": 3
   },
   "file_extension": ".py",
   "mimetype": "text/x-python",
   "name": "python",
   "nbconvert_exporter": "python",
   "pygments_lexer": "ipython3",
   "version": "3.13.1"
  }
 },
 "nbformat": 4,
 "nbformat_minor": 5
}
