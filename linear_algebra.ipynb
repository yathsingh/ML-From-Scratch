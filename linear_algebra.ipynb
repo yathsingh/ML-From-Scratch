{
 "cells": [
  {
   "cell_type": "code",
   "execution_count": 25,
   "id": "c08ddf8c",
   "metadata": {},
   "outputs": [],
   "source": [
    "from typing import List\n",
    "import math"
   ]
  },
  {
   "cell_type": "code",
   "execution_count": 26,
   "id": "64b9bd19",
   "metadata": {},
   "outputs": [],
   "source": [
    "Vector = List[float]\n",
    "\n",
    "height_weight_age = [70,  # inches,\n",
    "                     170, # pounds,\n",
    "                     40 ] # years\n",
    "\n",
    "grades = [95,   # exam1\n",
    "          80,   # exam2\n",
    "          75,   # exam3\n",
    "          62 ]  # exam4"
   ]
  },
  {
   "cell_type": "code",
   "execution_count": 27,
   "id": "48551776",
   "metadata": {},
   "outputs": [],
   "source": [
    "def add(v: Vector, w: Vector) -> Vector:\n",
    "    \"\"\"Adds corresponding elements\"\"\"\n",
    "    assert len(v) == len(w), \"vectors must be the same length\"\n",
    "\n",
    "    return [v_i + w_i for v_i, w_i in zip(v, w)]\n",
    "\n",
    "assert add([1, 2, 3], [4, 5, 6]) == [5, 7, 9]"
   ]
  },
  {
   "cell_type": "code",
   "execution_count": 28,
   "id": "06136519",
   "metadata": {},
   "outputs": [],
   "source": [
    "def subtract(v: Vector, w: Vector) -> Vector:\n",
    "    \"\"\"Subtracts corresponding elements\"\"\"\n",
    "    assert len(v) == len(w), \"vectors must be the same length\"\n",
    "\n",
    "    return [v_i - w_i for v_i, w_i in zip(v, w)]\n",
    "\n",
    "assert subtract([5, 7, 9], [4, 5, 6]) == [1, 2, 3]"
   ]
  },
  {
   "cell_type": "code",
   "execution_count": 29,
   "id": "658e257a",
   "metadata": {},
   "outputs": [],
   "source": [
    "def vector_sum(vectors: List[Vector]) -> Vector:\n",
    "    \"\"\"Sums all corresponding elements\"\"\"\n",
    "    assert vectors, \"no vectors provided!\"\n",
    "\n",
    "    num_elements = len(vectors[0])\n",
    "    assert all(len(v) == num_elements for v in vectors), \"different sizes!\"\n",
    "\n",
    "    return [sum(vector[i] for vector in vectors)\n",
    "            for i in range(num_elements)]\n",
    "\n",
    "assert vector_sum([[1,2], [2,3], [3,4]]) == [6,9]\n"
   ]
  },
  {
   "cell_type": "code",
   "execution_count": 30,
   "id": "f568356a",
   "metadata": {},
   "outputs": [],
   "source": [
    "def scalar_multiply(c: float, v: Vector) -> Vector:\n",
    "    \"\"\"Multiplies every element by c\"\"\"\n",
    "    \n",
    "    return [c * v_i for v_i in v] \n",
    "\n",
    "assert scalar_multiply(2, [1, 2, 3]) == [2, 4, 6]"
   ]
  },
  {
   "cell_type": "code",
   "execution_count": 31,
   "id": "1dadc2c5",
   "metadata": {},
   "outputs": [],
   "source": [
    "def vector_mean(vectors: List[Vector]) -> Vector:\n",
    "    \"\"\"Computes the element-wise average\"\"\"\n",
    "    n = len(vectors)\n",
    "    \n",
    "    return scalar_multiply(1/n, vector_sum(vectors))\n",
    "\n",
    "assert vector_mean([[1, 2], [2, 3], [3, 4]]) == [2, 3]"
   ]
  },
  {
   "cell_type": "code",
   "execution_count": 32,
   "id": "2bc59498",
   "metadata": {},
   "outputs": [],
   "source": [
    "def dot(v: Vector, w: Vector) -> Vector: \n",
    "    \"\"\"Computes sum of component-wise products\"\"\"\n",
    "    assert len(v) == len(w), \"Vectors must be the same length\"\n",
    "    \n",
    "    return sum(v_i * w_i for v_i, w_i in zip(v, w)) \n",
    "\n",
    "assert dot([1, 2, 3], [4, 5, 6]) == 32"
   ]
  },
  {
   "cell_type": "code",
   "execution_count": 33,
   "id": "bf4708fb",
   "metadata": {},
   "outputs": [],
   "source": [
    "def sum_of_squares(v: Vector) -> Vector: \n",
    "    \"\"\"Computes sum of the squares of each element of the vector\"\"\" \n",
    "\n",
    "    return dot(v, v)\n",
    "\n",
    "assert sum_of_squares([1, 2, 3]) == 14"
   ]
  },
  {
   "cell_type": "code",
   "execution_count": 35,
   "id": "22ca18fe",
   "metadata": {},
   "outputs": [],
   "source": [
    "def magnitude(v: Vector) -> Vector:\n",
    "    \"\"\"Computes magnitude/length of the vector\"\"\"\n",
    "\n",
    "    return math.sqrt(sum_of_squares(v))\n",
    "\n",
    "assert magnitude([3, 4]) == 5"
   ]
  },
  {
   "cell_type": "code",
   "execution_count": 36,
   "id": "63946846",
   "metadata": {},
   "outputs": [],
   "source": [
    "def squared_distance(v: Vector, w: Vector) -> float:\n",
    "    \"\"\"Computes squared distance of the 2 vectors\"\"\"\n",
    "\n",
    "    return sum_of_squares(subtract(v, w))\n",
    "\n",
    "assert squared_distance([3, 4, 5], [1, 2, 3]) == 12"
   ]
  },
  {
   "cell_type": "code",
   "execution_count": null,
   "id": "7a6fd4e2",
   "metadata": {},
   "outputs": [],
   "source": [
    "def distance_1(v: Vector, w: Vector) -> float:\n",
    "    \"\"\"Computes distance between the 2 vectors: 1st method\"\"\"\n",
    "\n",
    "    return math.sqrt(squared_distance(v, w))\n",
    "\n",
    "assert distance_1([4, 1], [1, 5]) == 5"
   ]
  },
  {
   "cell_type": "code",
   "execution_count": 40,
   "id": "d10de151",
   "metadata": {},
   "outputs": [],
   "source": [
    "def distance_2(v: Vector, w: Vector) -> float:\n",
    "    \"\"\"Computes distance between the 2 vectors: 2nd method\"\"\"\n",
    "\n",
    "    return magnitude(subtract(v, w))\n",
    "\n",
    "assert distance_2([4, 1], [1, 5]) == 5"
   ]
  }
 ],
 "metadata": {
  "kernelspec": {
   "display_name": ".venv",
   "language": "python",
   "name": "python3"
  },
  "language_info": {
   "codemirror_mode": {
    "name": "ipython",
    "version": 3
   },
   "file_extension": ".py",
   "mimetype": "text/x-python",
   "name": "python",
   "nbconvert_exporter": "python",
   "pygments_lexer": "ipython3",
   "version": "3.13.1"
  }
 },
 "nbformat": 4,
 "nbformat_minor": 5
}
